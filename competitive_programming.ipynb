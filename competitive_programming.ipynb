{
  "nbformat": 4,
  "nbformat_minor": 0,
  "metadata": {
    "colab": {
      "provenance": [],
      "authorship_tag": "ABX9TyOdtC3Cc/EMemPcNv7aQkZG"
    },
    "kernelspec": {
      "name": "python3",
      "display_name": "Python 3"
    },
    "language_info": {
      "name": "python"
    }
  },
  "cells": [
    {
      "cell_type": "markdown",
      "source": [
        "# Leetcode"
      ],
      "metadata": {
        "id": "hzj09SpHwfS8"
      }
    },
    {
      "cell_type": "markdown",
      "source": [
        "## Question 1:\n",
        "\n",
        "---\n",
        "\n",
        "\n",
        "Given an integer n, return a string array answer (1-indexed) where:\n",
        "\n",
        "answer[i] == \"FizzBuzz\" if i is divisible by 3 and 5.\n",
        "answer[i] == \"Fizz\" if i is divisible by 3.\n",
        "answer[i] == \"Buzz\" if i is divisible by 5.\n",
        "answer[i] == i (as a string) if none of the above conditions are true.\n",
        "\n",
        "Example 1:\n",
        "\n",
        "Input: n = 3 Output: [\"1\",\"2\",\"Fizz\"]\n",
        "\n",
        "Example 2:\n",
        "\n",
        "Input: n = 5 Output: [\"1\",\"2\",\"Fizz\",\"4\",\"Buzz\"]\n",
        "\n",
        "Example 3:\n",
        "\n",
        "Input: n = 15 Output: [\"1\",\"2\",\"Fizz\",\"4\",\"Buzz\",\"Fizz\",\"7\",\"8\",\"Fizz\",\"Buzz\",\"11\",\"Fizz\",\"13\",\"14\",\"FizzBuzz\"]\n",
        "\n",
        "Constraints:\n",
        "\n",
        "1 <= n <= 104"
      ],
      "metadata": {
        "id": "SYadz5shSo3T"
      }
    },
    {
      "cell_type": "code",
      "source": [
        "class Solution:\n",
        "      def fizzBuzz(self, n):\n",
        "              answer = []\n",
        "              for i in range(1, n + 1):\n",
        "                if i % 3 == 0 and i % 5 == 0:\n",
        "                  answer.append(\"FizzBuzz\")\n",
        "                elif i % 3 == 0:\n",
        "                  answer.append(\"Fizz\")\n",
        "                elif i % 5 == 0:\n",
        "                  answer.append(\"Buzz\")\n",
        "                else:\n",
        "                  answer.append(str(i))\n",
        "              return answer\n",
        "\n",
        "s = Solution()\n",
        "print(s.fizzBuzz(15))"
      ],
      "metadata": {
        "colab": {
          "base_uri": "https://localhost:8080/"
        },
        "id": "QlkiZ-ROalwE",
        "outputId": "2a1416a1-1807-48b1-d69e-89ed08828494"
      },
      "execution_count": null,
      "outputs": [
        {
          "output_type": "stream",
          "name": "stdout",
          "text": [
            "['1', '2', 'Fizz', '4', 'Buzz', 'Fizz', '7', '8', 'Fizz', 'Buzz', '11', 'Fizz', '13', '14', 'FizzBuzz']\n"
          ]
        }
      ]
    },
    {
      "cell_type": "code",
      "source": [
        "s = Solution()\n",
        "n = int(input(\"Enter a number: \"))\n",
        "print(s.fizzBuzz(n))"
      ],
      "metadata": {
        "colab": {
          "base_uri": "https://localhost:8080/"
        },
        "id": "1lpF73UZYxF_",
        "outputId": "61f81734-0d62-4400-861c-f9f9bad88563"
      },
      "execution_count": null,
      "outputs": [
        {
          "output_type": "stream",
          "name": "stdout",
          "text": [
            "Enter a number: 14\n",
            "['1', '2', 'Fizz', '4', 'Buzz', 'Fizz', '7', '8', 'Fizz', 'Buzz', '11', 'Fizz', '13', '14']\n"
          ]
        }
      ]
    },
    {
      "cell_type": "markdown",
      "source": [
        "## Question 2:\n",
        "\n",
        "---\n",
        "\n",
        "\n",
        "Given the array nums, for each nums[i] find out how many numbers in the array are smaller than it. That is, for each nums[i] you have to count the number of valid j's such that j != i and nums[j] < nums[i].\n",
        "\n",
        "Return the answer in an array.\n",
        "\n",
        "\n",
        "\n",
        "**Example 1:**\n",
        "\n",
        "Input: nums = [8,1,2,2,3]\n",
        "Output: [4,0,1,1,3]\n",
        "\n",
        "Explanation:\n",
        "\n",
        "For nums[0]=8 there exist four smaller numbers than it (1, 2, 2 and 3).\n",
        "For nums[1]=1 does not exist any smaller number than it.\n",
        "For nums[2]=2 there exist one smaller number than it (1).\n",
        "For nums[3]=2 there exist one smaller number than it (1).\n",
        "For nums[4]=3 there exist three smaller numbers than it (1, 2 and 2).\n",
        "\n",
        "**Example 2:**\n",
        "\n",
        "Input: nums = [6,5,4,8]\n",
        "Output: [2,1,0,3]\n",
        "\n",
        "**Example 3:**\n",
        "\n",
        "Input: nums = [7,7,7,7]\n",
        "Output: [0,0,0,0]\n",
        "\n",
        "\n",
        "Constraints:\n",
        "\n",
        "2 <= nums.length <= 500\n",
        "0 <= nums[i] <= 100\n"
      ],
      "metadata": {
        "id": "uUzyg3cvYzy5"
      }
    },
    {
      "cell_type": "code",
      "source": [
        "class Solution:\n",
        "      def smallerNumbersThanCurrent(self, nums):\n",
        "          answer = []\n",
        "          for i in range(len(nums)):\n",
        "            count = 0\n",
        "            for j in range(len(nums)):\n",
        "              if nums[j] < nums[i]:\n",
        "                count += 1\n",
        "            answer.append(count)\n",
        "          return answer\n",
        "\n",
        "s = Solution()\n",
        "print(s.smallerNumbersThanCurrent([8,1,2,2,3]))"
      ],
      "metadata": {
        "colab": {
          "base_uri": "https://localhost:8080/"
        },
        "id": "eAnncfYmbM-U",
        "outputId": "1af508d0-5d49-4326-afa4-45f467bdc1f7"
      },
      "execution_count": null,
      "outputs": [
        {
          "output_type": "stream",
          "name": "stdout",
          "text": [
            "[4, 0, 1, 1, 3]\n"
          ]
        }
      ]
    },
    {
      "cell_type": "code",
      "source": [
        "class Solution:\n",
        "  def smallerNumbersThanCurrent(self, nums):\n",
        "    sorted_nums = sorted(nums)\n",
        "    return [sorted_nums.index(num) for num in nums]\n",
        "\n",
        "s = Solution()\n",
        "print(s.smallerNumbersThanCurrent([8,1,2,2,3]))"
      ],
      "metadata": {
        "colab": {
          "base_uri": "https://localhost:8080/"
        },
        "id": "VrQw9kc4cOSj",
        "outputId": "c00b3fb6-3e53-4f0b-d138-8bc92d7f7862"
      },
      "execution_count": null,
      "outputs": [
        {
          "output_type": "stream",
          "name": "stdout",
          "text": [
            "[4, 0, 1, 1, 3]\n"
          ]
        }
      ]
    },
    {
      "cell_type": "markdown",
      "source": [
        "## Question 3:\n",
        "\n",
        "---\n",
        "\n",
        "Given an array nums with n objects colored red, white, or blue, sort them in-place so that objects of the same color are adjacent, with the colors in the order red, white, and blue.\n",
        "\n",
        "We will use the integers 0, 1, and 2 to represent the color red, white, and blue, respectively.\n",
        "\n",
        "You must solve this problem without using the library's sort function.\n",
        "\n",
        "\n",
        "\n",
        "**Example 1:**\n",
        "\n",
        "Input: nums = [2,0,2,1,1,0]\n",
        "Output: [0,0,1,1,2,2]\n",
        "\n",
        "**Example 2:**\n",
        "\n",
        "Input: nums = [2,0,1]\n",
        "Output: [0,1,2]\n",
        "\n",
        "\n",
        "Constraints:\n",
        "\n",
        "n == nums.length\n",
        "1 <= n <= 300\n",
        "nums[i] is either 0, 1, or 2.\n",
        "\n",
        "\n",
        "Follow up: Could you come up with a one-pass algorithm using only constant extra space?"
      ],
      "metadata": {
        "id": "cyR_Xlhxgj9N"
      }
    },
    {
      "cell_type": "code",
      "source": [
        "class Solution:\n",
        "      def sortColors(self, nums):\n",
        "        p0 = current = 0\n",
        "        p2 = len(nums) - 1\n",
        "\n",
        "        while current <= p2:\n",
        "          if nums[current] == 0:\n",
        "            nums[p0], nums[current] = nums[current], nums[p0]\n",
        "            p0 += 1\n",
        "            current += 1\n",
        "          elif nums[current] == 2:\n",
        "            nums[current], nums[p2] = nums[p2], nums[current]\n",
        "            p2 -= 1\n",
        "          else:\n",
        "            current += 1\n",
        "        return nums\n",
        "\n",
        "s = Solution()\n",
        "print(s.sortColors([2,0,2,1,1,0]))"
      ],
      "metadata": {
        "colab": {
          "base_uri": "https://localhost:8080/"
        },
        "id": "sgIX4DePg5dF",
        "outputId": "642b7ef8-d6dd-4c79-b361-47f0b60b9220"
      },
      "execution_count": null,
      "outputs": [
        {
          "output_type": "stream",
          "name": "stdout",
          "text": [
            "[0, 0, 1, 1, 2, 2]\n"
          ]
        }
      ]
    },
    {
      "cell_type": "markdown",
      "source": [
        "## Question 4:\n",
        "\n",
        "---\n",
        "\n",
        "A sentence is a list of words that are separated by a single space with no leading or trailing spaces. Each word consists of lowercase and uppercase English letters.\n",
        "\n",
        "A sentence can be shuffled by appending the 1-indexed word position to each word then rearranging the words in the sentence.\n",
        "\n",
        "For example, the sentence \"This is a sentence\" can be shuffled as \"sentence4 a3 is2 This1\" or \"is2 sentence4 This1 a3\".\n",
        "Given a shuffled sentence s containing no more than 9 words, reconstruct and return the original sentence.\n",
        "\n",
        "\n",
        "\n",
        "**Example 1:**\n",
        "\n",
        "Input: s = \"is2 sentence4 This1 a3\"\n",
        "\n",
        "Output: \"This is a sentence\"\n",
        "\n",
        "Explanation: Sort the words in s to their original positions \"This1 is2 a3 sentence4\", then remove the numbers.\n",
        "\n",
        "**Example 2:**\n",
        "\n",
        "Input: s = \"Myself2 Me1 I4 and3\"\n",
        "\n",
        "Output: \"Me Myself and I\"\n",
        "\n",
        "Explanation: Sort the words in s to their original positions \"Me1 Myself2 and3 I4\", then remove the numbers.\n",
        "\n",
        "\n",
        "Constraints:\n",
        "\n",
        "2 <= s.length <= 200\n",
        "s consists of lowercase and uppercase English letters, spaces, and digits from 1 to 9.\n",
        "The number of words in s is between 1 and 9.\n",
        "The words in s are separated by a single space.\n",
        "s contains no leading or trailing spaces."
      ],
      "metadata": {
        "id": "T0pyBIBkmPzo"
      }
    },
    {
      "cell_type": "code",
      "source": [
        "class Solution:\n",
        "      def sortSentence(self, s: str) -> str:\n",
        "          words = s.split()\n",
        "          words.sort(key = lambda x: x[-1])\n",
        "          return ' '.join(word[:-1] for word in words)\n",
        "\n",
        "s = Solution()\n",
        "print(s.sortSentence(\"is2 sentence4 This1 a3\"))"
      ],
      "metadata": {
        "colab": {
          "base_uri": "https://localhost:8080/"
        },
        "id": "hO_X-L7Lmdoi",
        "outputId": "e469fdf8-2eef-4020-d772-9efaa38dc8e8"
      },
      "execution_count": null,
      "outputs": [
        {
          "output_type": "stream",
          "name": "stdout",
          "text": [
            "This is a sentence\n"
          ]
        }
      ]
    },
    {
      "cell_type": "markdown",
      "source": [
        "## Question 5:\n",
        "\n",
        "---\n",
        "\n",
        "You are given a 0-indexed integer array nums and a target element target.\n",
        "\n",
        "A target index is an index i such that nums[i] == target.\n",
        "\n",
        "Return a list of the target indices of nums after sorting nums in non-decreasing order. If there are no target indices, return an empty list. The returned list must be sorted in increasing order.\n",
        "\n",
        "\n",
        "\n",
        "**Example 1:**\n",
        "\n",
        "Input: nums = [1,2,5,2,3], target = 2\n",
        "\n",
        "Output: [1,2]\n",
        "\n",
        "Explanation: After sorting, nums is [1,2,2,3,5].\n",
        "The indices where nums[i] == 2 are 1 and 2.\n",
        "\n",
        "**Example 2:**\n",
        "\n",
        "Input: nums = [1,2,5,2,3], target = 3\n",
        "\n",
        "Output: [3]\n",
        "\n",
        "Explanation: After sorting, nums is [1,2,2,3,5].\n",
        "The index where nums[i] == 3 is 3.\n",
        "\n",
        "**Example 3:**\n",
        "\n",
        "Input: nums = [1,2,5,2,3], target = 5\n",
        "\n",
        "Output: [4]\n",
        "\n",
        "Explanation: After sorting, nums is [1,2,2,3,5].\n",
        "The index where nums[i] == 5 is 4.\n",
        "\n",
        "\n",
        "Constraints:\n",
        "\n",
        "1 <= nums.length <= 100\n",
        "1 <= nums[i], target <= 100"
      ],
      "metadata": {
        "id": "5Oc75oBjpck3"
      }
    },
    {
      "cell_type": "code",
      "source": [
        "class Solution:\n",
        "      def targetIndices(self, nums, target):\n",
        "          nums.sort()\n",
        "          return[i for i, n in enumerate(nums) if n == target]\n",
        "\n",
        "s = Solution()\n",
        "print(s.targetIndices([1,2,5,2,3], 2))\n",
        "print(s.targetIndices([1,2,5,2,3], 3))"
      ],
      "metadata": {
        "colab": {
          "base_uri": "https://localhost:8080/"
        },
        "id": "mkna2sPBqFnL",
        "outputId": "55140613-4eda-44d0-e29c-c1832cd5e665"
      },
      "execution_count": null,
      "outputs": [
        {
          "output_type": "stream",
          "name": "stdout",
          "text": [
            "[1, 2]\n",
            "[3]\n"
          ]
        }
      ]
    },
    {
      "cell_type": "markdown",
      "source": [
        "# HackerRank\n",
        "\n",
        "\n"
      ],
      "metadata": {
        "id": "xXVoGirXuWdJ"
      }
    },
    {
      "cell_type": "markdown",
      "source": [
        "## Question 1: [Link](https://www.hackerrank.com/challenges/grading/problem)\n",
        "\n",
        "---\n",
        "\n",
        "HackerLand University has the following grading policy:\n",
        "\n",
        "Every student receives a  in the inclusive range from  to .\n",
        "Any  less than  is a failing grade.\n",
        "Sam is a professor at the university and likes to round each student's  according to these rules:\n",
        "\n",
        "If the difference between the  and the next multiple of  is less than , round  up to the next multiple of .\n",
        "If the value of  is less than , no rounding occurs as the result will still be a failing grade.\n",
        "\n",
        "**Examples**\n",
        "\n",
        "grade = 84 round to  (85 - 84 is less than 3)\n",
        "\n",
        "grade = 29 do not round (result is less than 40)\n",
        "\n",
        "grade = 57 do not round (60 - 57 is 3 or higher)\n",
        "\n",
        "Given the initial value of  for each of Sam's  students, write code to automate the rounding process.\n",
        "\n",
        "**Function Description**\n",
        "\n",
        "Complete the function gradingStudents in the editor below.\n",
        "\n",
        "gradingStudents has the following parameter(s):\n",
        "\n",
        "int grades[n]: the grades before rounding\n",
        "Returns\n",
        "\n",
        "int[n]: the grades after rounding as appropriate\n",
        "Input Format\n",
        "\n",
        "The first line contains a single integer, , the number of students.\n",
        "Each line  of the  subsequent lines contains a single integer, .\n",
        "\n",
        "**Constraints**\n",
        "\n",
        "Sample Input 0\n",
        "\n",
        "4\n",
        "73\n",
        "67\n",
        "38\n",
        "33\n",
        "\n",
        "Sample Output 0\n",
        "\n",
        "75\n",
        "67\n",
        "40\n",
        "33\n",
        "\n",
        "Explanation 0\n",
        "\n",
        "Student  received a , and the next multiple of  from  is . Since , the student's grade is rounded to .\n",
        "Student  received a , and the next multiple of  from  is . Since , the grade will not be modified and the student's final grade is .\n",
        "Student  received a , and the next multiple of  from  is . Since , the student's grade will be rounded to .\n",
        "Student  received a grade below , so the grade will not be modified and the student's final grade is ."
      ],
      "metadata": {
        "id": "zevoQu4RxcYF"
      }
    },
    {
      "cell_type": "code",
      "source": [
        "class Solution:\n",
        "    def gradingStudents(self, nums):\n",
        "        grades = []\n",
        "        for i in nums:\n",
        "            if i < 38:\n",
        "                grades.append(i)\n",
        "            else:\n",
        "                next_multiple = ((i // 5) + 1) * 5\n",
        "                if next_multiple - i < 3:\n",
        "                    grades.append(next_multiple)\n",
        "                else:\n",
        "                    grades.append(i)\n",
        "        return grades\n",
        "\n",
        "s = Solution()\n",
        "result = s.gradingStudents([73, 67, 38, 33])\n",
        "for grade in result:\n",
        "    print(grade)"
      ],
      "metadata": {
        "colab": {
          "base_uri": "https://localhost:8080/"
        },
        "id": "703LTsTwyRv6",
        "outputId": "525aba30-8475-4a22-ec87-49565107937b"
      },
      "execution_count": null,
      "outputs": [
        {
          "output_type": "stream",
          "name": "stdout",
          "text": [
            "75\n",
            "67\n",
            "40\n",
            "33\n"
          ]
        }
      ]
    },
    {
      "cell_type": "code",
      "source": [
        "def gradingStudents(grades):\n",
        "    for i in range(len(grades)):\n",
        "        if grades[i]>=38:\n",
        "            if grades[i] % 5 >=3 :\n",
        "                grades[i]=5*((grades[i]//5) + 1)\n",
        "    return grades\n",
        "\n",
        "if __name__ == '__main__':\n",
        "    # Replace 'output.txt' with your desired output file path\n",
        "    fptr = open('output.txt', 'w')\n",
        "\n",
        "    grades_count = int(input().strip())\n",
        "\n",
        "    grades = []\n",
        "\n",
        "    for _ in range(grades_count):\n",
        "        grades_item = int(input().strip())\n",
        "        grades.append(grades_item)\n",
        "\n",
        "    result = gradingStudents(grades)\n",
        "\n",
        "    fptr.write('\\n'.join(map(str, result)))\n",
        "    fptr.write('\\n')\n",
        "\n",
        "    fptr.close()\n",
        "\n",
        "# Output has been saved in the \"output.txt\" file in the files folder"
      ],
      "metadata": {
        "colab": {
          "base_uri": "https://localhost:8080/"
        },
        "id": "x0xoRDHJ9TG5",
        "outputId": "c167ddbe-d74c-485b-cb5b-25054655c080"
      },
      "execution_count": null,
      "outputs": [
        {
          "name": "stdout",
          "output_type": "stream",
          "text": [
            "4\n",
            "73\n",
            "67\n",
            "38\n",
            "33\n"
          ]
        }
      ]
    },
    {
      "cell_type": "markdown",
      "source": [
        "## Question 2: [Link](https://www.hackerrank.com/challenges/ctci-bubble-sort/problem)\n",
        "\n",
        "---\n",
        "\n",
        "Consider the following version of Bubble Sort:\n",
        "\n",
        "for (int i = 0; i < n; i++) {\n",
        "    \n",
        "    for (int j = 0; j < n - 1; j++) {\n",
        "        // Swap adjacent elements if they are in decreasing order\n",
        "        if (a[j] > a[j + 1]) {\n",
        "            swap(a[j], a[j + 1]);\n",
        "        }\n",
        "    }\n",
        "    \n",
        "}\n",
        "Given an array of integers, sort the array in ascending order using the Bubble Sort algorithm above. Once sorted, print the following three lines:\n",
        "\n",
        "Array is sorted in numSwaps swaps., where  is the number of swaps that took place.\n",
        "First Element: firstElement, where  is the first element in the sorted array.\n",
        "Last Element: lastElement, where  is the last element in the sorted array.\n",
        "Hint: To complete this challenge, you must add a variable that keeps a running tally of all swaps that occur during execution.\n",
        "\n",
        "Example\n",
        "\n",
        "swap    a       \n",
        "0       [6,4,1]\n",
        "1       [4,6,1]\n",
        "2       [4,1,6]\n",
        "3       [1,4,6]\n",
        "The steps of the bubble sort are shown above. It took  swaps to sort the array. Output is:\n",
        "\n",
        "Array is sorted in 3 swaps.  \n",
        "First Element: 1  \n",
        "Last Element: 6  \n",
        "Function Description\n",
        "\n",
        "Complete the function countSwaps in the editor below.\n",
        "\n",
        "countSwaps has the following parameter(s):\n",
        "\n",
        "int a[n]: an array of integers to sort\n",
        "Prints\n",
        "\n",
        "Print the three lines required, then return. No return value is expected.\n",
        "\n",
        "Input Format\n",
        "\n",
        "The first line contains an integer, , the size of the array .\n",
        "The second line contains  space-separated integers .\n",
        "\n",
        "Constraints\n",
        "\n",
        "Output Format\n",
        "\n",
        "Sample Input 0\n",
        "\n",
        "STDIN   Function\n",
        "-----   --------\n",
        "3       a[] size n = 3\n",
        "1 2 3   a = [1, 2, 3]\n",
        "Sample Output 0\n",
        "\n",
        "Array is sorted in 0 swaps.\n",
        "First Element: 1\n",
        "Last Element: 3\n",
        "Explanation 0\n",
        "The array is already sorted, so  swaps take place.\n",
        "\n",
        "Sample Input 1\n",
        "\n",
        "3\n",
        "3 2 1\n",
        "Sample Output 1\n",
        "\n",
        "Array is sorted in 3 swaps.\n",
        "First Element: 1\n",
        "Last Element: 3\n",
        "Explanation 1\n",
        "The array is not sorted, and its initial values are: . The following  swaps take place:\n",
        "\n",
        "At this point the array is sorted and the three lines of output are printed to stdout."
      ],
      "metadata": {
        "id": "lGv7-9LZPzG8"
      }
    },
    {
      "cell_type": "code",
      "source": [
        "#!/bin/python3\n",
        "\n",
        "import math\n",
        "import os\n",
        "import random\n",
        "import re\n",
        "import sys\n",
        "\n",
        "#\n",
        "# Complete the 'countSwaps' function below.\n",
        "#\n",
        "# The function accepts INTEGER_ARRAY a as parameter.\n",
        "#\n",
        "\n",
        "def countSwaps(a):\n",
        "    count = 0\n",
        "    for i in range(len(a)):\n",
        "        for j in range(len(a)-i-1):\n",
        "            if a[j] > a[j+1]:\n",
        "                a[j], a[j+1] = a[j+1], a[j]\n",
        "                count += 1\n",
        "    print(\"Array is sorted in\", count, \"swaps.\")\n",
        "    print(\"First Element:\", a[0])\n",
        "    print(\"Last Element:\", a[-1])\n",
        "\n",
        "if __name__ == '__main__':\n",
        "    n = int(input().strip())\n",
        "\n",
        "    a = list(map(int, input().rstrip().split()))\n",
        "\n",
        "    countSwaps(a)"
      ],
      "metadata": {
        "colab": {
          "base_uri": "https://localhost:8080/"
        },
        "id": "FLpwzCxqQCww",
        "outputId": "11db47cb-5c80-42d9-ec9a-86df6944edac"
      },
      "execution_count": null,
      "outputs": [
        {
          "output_type": "stream",
          "name": "stdout",
          "text": [
            "3\n",
            "1 2 3\n",
            "Array is sorted in 0 swaps.\n",
            "First Element: 1\n",
            "Last Element: 3\n"
          ]
        }
      ]
    },
    {
      "cell_type": "markdown",
      "source": [
        "# Codeforces"
      ],
      "metadata": {
        "id": "_nmXtILYH76z"
      }
    },
    {
      "cell_type": "markdown",
      "source": [
        "## Question 1: [Link](https://codeforces.com/problemset/problem/50/A)\n",
        "\n",
        "---\n",
        "\n",
        "A. Domino piling\n",
        "\n",
        "time limit per test2 seconds\n",
        "\n",
        "memory limit per test256 megabytes\n",
        "\n",
        "input: standard input\n",
        "\n",
        "output: standard output\n",
        "\n",
        "You are given a rectangular board of M × N squares. Also you are given an unlimited number of standard domino pieces of 2 × 1 squares. You are allowed to rotate the pieces. You are asked to place as many dominoes as possible on the board so as to meet the following conditions:\n",
        "\n",
        "1. Each domino completely covers two squares.\n",
        "\n",
        "2. No two dominoes overlap.\n",
        "\n",
        "3. Each domino lies entirely inside the board. It is allowed to touch the edges of the board.\n",
        "\n",
        "Find the maximum number of dominoes, which can be placed under these restrictions.\n",
        "\n",
        "Input\n",
        "\n",
        "In a single line you are given two integers M and N — board sizes in squares (1 ≤ M ≤ N ≤ 16).\n",
        "\n",
        "Output\n",
        "\n",
        "Output one number — the maximal number of dominoes, which can be placed."
      ],
      "metadata": {
        "id": "s_6X4UuNIFf0"
      }
    },
    {
      "cell_type": "code",
      "source": [
        "class Solution:\n",
        "    def max_dominoes(self, m, n):\n",
        "        return (m * n) // 2\n",
        "\n",
        "s = Solution()\n",
        "m, n = map(int, input().split())\n",
        "print(s.max_dominoes(m, n))"
      ],
      "metadata": {
        "colab": {
          "base_uri": "https://localhost:8080/"
        },
        "id": "mkg0FxpcKd8h",
        "outputId": "b2e06ced-ab09-43ee-dc56-d0b566f47b72"
      },
      "execution_count": null,
      "outputs": [
        {
          "output_type": "stream",
          "name": "stdout",
          "text": [
            "2 4\n",
            "4\n"
          ]
        }
      ]
    },
    {
      "cell_type": "markdown",
      "source": [
        "# Random Questions"
      ],
      "metadata": {
        "id": "JUDeK8-xviQ2"
      }
    },
    {
      "cell_type": "markdown",
      "source": [
        "## Question 1\n",
        "\n",
        "---\n",
        "\n",
        "Given an array arr, replace every element in that array with the greatest element among the elements to its right, and replace the last element with -1.\n",
        "After doing so, return the array.\n",
        "\n",
        "\n",
        "**Example 1:**\n",
        "\n",
        "Input: arr = [17,18,5,4,6,1]\n",
        "\n",
        "Output: [18,6,6,6,1,-1]\n",
        "\n",
        "Explanation:\n",
        "- index 0 --> the greatest element to the right of index 0 is index 1 (18).\n",
        "- index 1 --> the greatest element to the right of index 1 is index 4 (6).\n",
        "- index 2 --> the greatest element to the right of index 2 is index 4 (6).\n",
        "- index 3 --> the greatest element to the right of index 3 is index 4 (6).\n",
        "- index 4 --> the greatest element to the right of index 4 is index 5 (1).\n",
        "- index 5 --> there are no elements to the right of index 5, so we put -1.\n",
        "\n",
        "\n",
        "**Example 2:**\n",
        "\n",
        "Input: arr = [400]\n",
        "\n",
        "Output: [-1]\n",
        "\n",
        "Explanation: There are no elements to the right of index 0.\n",
        "\n",
        "Constraints:\n",
        "1 <= arr.length <= 1000\n",
        "1 <= arr[i] <= 10^5"
      ],
      "metadata": {
        "id": "HdLDoiEfuRe6"
      }
    },
    {
      "cell_type": "code",
      "source": [
        "class Solution:\n",
        "    def replaceElements(self, nums):\n",
        "        max_val = -1\n",
        "        for i in range(len(nums) - 1, -1, -1):\n",
        "            nums[i], max_val = max_val, max(max_val, nums[i])\n",
        "        return nums\n",
        "\n",
        "s = Solution()\n",
        "print(s.replaceElements([17, 18, 5, 4, 6, 1]))\n",
        "print(s.replaceElements([400]))"
      ],
      "metadata": {
        "colab": {
          "base_uri": "https://localhost:8080/"
        },
        "id": "-G4w75APuy-l",
        "outputId": "0a493a9e-6f64-4217-b324-2caa4c783b28"
      },
      "execution_count": null,
      "outputs": [
        {
          "output_type": "stream",
          "name": "stdout",
          "text": [
            "[18, 6, 6, 6, 1, -1]\n",
            "[-1]\n"
          ]
        }
      ]
    }
  ]
}