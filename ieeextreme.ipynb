{
  "cells": [
    {
      "cell_type": "markdown",
      "id": "799f00ee7b3e9f39",
      "metadata": {
        "id": "799f00ee7b3e9f39"
      },
      "source": [
        "# Practice Session"
      ]
    },
    {
      "cell_type": "markdown",
      "id": "bfe74e7d6128ac2",
      "metadata": {
        "id": "bfe74e7d6128ac2"
      },
      "source": [
        "## Question 1:\n",
        "https://csacademy.com/contest/interview-archive/task/anagrams"
      ]
    },
    {
      "cell_type": "code",
      "execution_count": null,
      "id": "initial_id",
      "metadata": {
        "ExecuteTime": {
          "end_time": "2024-09-14T19:30:23.398459Z",
          "start_time": "2024-09-14T19:29:31.512694Z"
        },
        "id": "initial_id",
        "outputId": "242a75e9-7249-4e9e-960f-560e366e6dc8"
      },
      "outputs": [
        {
          "name": "stdout",
          "output_type": "stream",
          "text": [
            "8\n",
            "disease\n",
            "burned\n",
            "viewer\n",
            "praised\n",
            "despair\n",
            "burden\n",
            "diapers\n",
            "review\n",
            "3\n"
          ]
        }
      ],
      "source": [
        "from collections import defaultdict\n",
        "\n",
        "N = int(input())\n",
        "\n",
        "anagram_count = defaultdict(int)\n",
        "\n",
        "for _ in range(N):\n",
        "    word = input().strip()\n",
        "    sorted_word = ''.join(sorted(word))\n",
        "    anagram_count[sorted_word] += 1\n",
        "\n",
        "print(max(anagram_count.values()))"
      ]
    },
    {
      "cell_type": "markdown",
      "source": [
        "## Question 2\n",
        "\n",
        "https://csacademy.com/contest/interview-archive/task/array-intersection/"
      ],
      "metadata": {
        "id": "ZbR38xx40zRv"
      },
      "id": "ZbR38xx40zRv"
    },
    {
      "cell_type": "code",
      "source": [
        "# Parameters a1 and a2 are two arrays of integers\n",
        "# The function should return an array of integers\n",
        "from collections import Counter\n",
        "\n",
        "def array_intersection(arr1, arr2):\n",
        "    count1 = Counter(arr1)\n",
        "    count2 = Counter(arr2)\n",
        "\n",
        "    result = []\n",
        "\n",
        "    for element in count1:\n",
        "        if element in count2:\n",
        "            result.extend([element] * min(count1[element], count2[element]))\n",
        "\n",
        "    print(len(result))\n",
        "    return result\n",
        "\n",
        "###\n",
        "n, m = map(int, input().split(' '))\n",
        "a1 = list(map(int, input().split(' ')))\n",
        "a2 = list(map(int, input().split(' ')))\n",
        "intersection = array_intersection(a1, a2)\n",
        "print(' '.join(map(str, intersection)))"
      ],
      "metadata": {
        "id": "DuZs86ViJteG",
        "outputId": "3b8151be-dcf7-4845-e1e4-d238438042ac",
        "colab": {
          "base_uri": "https://localhost:8080/"
        }
      },
      "id": "DuZs86ViJteG",
      "execution_count": null,
      "outputs": [
        {
          "output_type": "stream",
          "name": "stdout",
          "text": [
            "6 6\n",
            "2 1 2 3 2 3\n",
            "3 1 2 1 3 3\n",
            "4\n",
            "2 1 3 3\n"
          ]
        }
      ]
    },
    {
      "cell_type": "markdown",
      "source": [
        "## Question 3\n",
        "https://csacademy.com/contest/archive/task/strange-distance/"
      ],
      "metadata": {
        "id": "J2asQQIpsdz1"
      },
      "id": "J2asQQIpsdz1"
    },
    {
      "cell_type": "code",
      "source": [
        "# a simple parser for python. use get_number() and get_word() to read\n",
        "def parser():\n",
        "    while 1:\n",
        "        data = list(input().split(' '))\n",
        "        for number in data:\n",
        "            if len(number) > 0:\n",
        "                yield(number)\n",
        "\n",
        "input_parser = parser()\n",
        "\n",
        "def get_word():\n",
        "    global input_parser\n",
        "    return next(input_parser)\n",
        "\n",
        "def get_number():\n",
        "    data = get_word()\n",
        "    try:\n",
        "        return int(data)\n",
        "    except ValueError:\n",
        "        return float(data)\n",
        "\n",
        "# numpy and scipy are available for use\n",
        "import numpy\n",
        "import scipy\n",
        "\n",
        "def solve():\n",
        "    N = get_number()\n",
        "    K = get_number()\n",
        "\n",
        "    points = []\n",
        "    for _ in range(N):\n",
        "        x = get_number()\n",
        "        y = get_number()\n",
        "        points.append((x, y))\n",
        "\n",
        "    distances = []\n",
        "    for i in range(N):\n",
        "        for j in range(i + 1, N):\n",
        "            x1, y1 = points[i]\n",
        "            x2, y2 = points[j]\n",
        "            dist = min(abs(x1 - x2), abs(y1 - y2))\n",
        "            distances.append(dist)\n",
        "\n",
        "    distances.sort()\n",
        "\n",
        "    print(distances[K - 1])\n",
        "\n",
        "solve()"
      ],
      "metadata": {
        "id": "4F6sgNFtsW_q",
        "outputId": "d821b124-fef0-4516-dff5-54a9593621cb",
        "colab": {
          "base_uri": "https://localhost:8080/"
        }
      },
      "id": "4F6sgNFtsW_q",
      "execution_count": null,
      "outputs": [
        {
          "output_type": "stream",
          "name": "stdout",
          "text": [
            "4 5\n",
            "1 5\n",
            "4 1\n",
            "5 5\n",
            "3 7\n",
            "2\n"
          ]
        }
      ]
    },
    {
      "cell_type": "markdown",
      "source": [
        "## Question 4\n",
        "https://csacademy.com/contest/archive/task/exponential_game/"
      ],
      "metadata": {
        "id": "2tQwnBtHTsbp"
      },
      "id": "2tQwnBtHTsbp"
    },
    {
      "cell_type": "code",
      "source": [],
      "metadata": {
        "id": "RJZgb6SQTxGC"
      },
      "id": "RJZgb6SQTxGC",
      "execution_count": null,
      "outputs": []
    }
  ],
  "metadata": {
    "kernelspec": {
      "display_name": "Python 3 (ipykernel)",
      "language": "python",
      "name": "python3"
    },
    "language_info": {
      "codemirror_mode": {
        "name": "ipython",
        "version": 3
      },
      "file_extension": ".py",
      "mimetype": "text/x-python",
      "name": "python",
      "nbconvert_exporter": "python",
      "pygments_lexer": "ipython3",
      "version": "3.11.7"
    },
    "colab": {
      "provenance": []
    }
  },
  "nbformat": 4,
  "nbformat_minor": 5
}