{
 "cells": [
  {
   "cell_type": "markdown",
   "id": "799f00ee7b3e9f39",
   "metadata": {},
   "source": [
    "# Practice Session"
   ]
  },
  {
   "cell_type": "markdown",
   "id": "bfe74e7d6128ac2",
   "metadata": {},
   "source": [
    "### Question 1:\n",
    "https://csacademy.com/contest/interview-archive/task/anagrams"
   ]
  },
  {
   "cell_type": "code",
   "execution_count": 2,
   "id": "initial_id",
   "metadata": {
    "ExecuteTime": {
     "end_time": "2024-09-14T19:30:23.398459Z",
     "start_time": "2024-09-14T19:29:31.512694Z"
    }
   },
   "outputs": [
    {
     "name": "stdout",
     "output_type": "stream",
     "text": [
      "8\n",
      "disease\n",
      "burned\n",
      "viewer\n",
      "praised\n",
      "despair\n",
      "burden\n",
      "diapers\n",
      "review\n",
      "3\n"
     ]
    }
   ],
   "source": [
    "from collections import defaultdict\n",
    "\n",
    "N = int(input())\n",
    "\n",
    "anagram_count = defaultdict(int)\n",
    "\n",
    "for _ in range(N):\n",
    "    word = input().strip()\n",
    "    sorted_word = ''.join(sorted(word))  \n",
    "    anagram_count[sorted_word] += 1      \n",
    "\n",
    "print(max(anagram_count.values()))"
   ]
  },
  {
   "cell_type": "code",
   "execution_count": null,
   "id": "da4d23a6",
   "metadata": {},
   "outputs": [],
   "source": []
  }
 ],
 "metadata": {
  "kernelspec": {
   "display_name": "Python 3 (ipykernel)",
   "language": "python",
   "name": "python3"
  },
  "language_info": {
   "codemirror_mode": {
    "name": "ipython",
    "version": 3
   },
   "file_extension": ".py",
   "mimetype": "text/x-python",
   "name": "python",
   "nbconvert_exporter": "python",
   "pygments_lexer": "ipython3",
   "version": "3.11.7"
  }
 },
 "nbformat": 4,
 "nbformat_minor": 5
}
